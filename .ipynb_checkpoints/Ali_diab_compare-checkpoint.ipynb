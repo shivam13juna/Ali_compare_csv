{
 "cells": [
  {
   "cell_type": "code",
   "execution_count": 1,
   "metadata": {},
   "outputs": [],
   "source": [
    "import numpy as np\n",
    "import pandas as pd\n",
    "\n",
    "\n",
    "# ### The goals is to check if phone number match in the field 'estate_phone ' of dupro.csv and cent.csv and to create another file.csv with only the item of dupro.csv without the any item of the matching of ph-one n-umber but be careful because we can have in each field 2,3 or more number. We need to check each one with each one. If a number match we don't take the line. We keep only the line who don't any number of cent.csv doesn't match\n",
    "\n",
    "\n",
    "\n",
    "new_dupro = pd.read_csv('AVPP_immo.csv')\n",
    "# new_dupro.dropna(subset=['estate_phone'], inplace=True)\n",
    "# new_dupro['estate_phone'].fillna('0', inplace=True)\n",
    "\n"
   ]
  },
  {
   "cell_type": "code",
   "execution_count": 3,
   "metadata": {},
   "outputs": [],
   "source": [
    "base_list = list(map(lambda x: x.split(','), new_dupro['estate_phone'].astype(str).values))"
   ]
  },
  {
   "cell_type": "code",
   "execution_count": 4,
   "metadata": {},
   "outputs": [
    {
     "data": {
      "text/plain": [
       "['5145542034']"
      ]
     },
     "execution_count": 4,
     "metadata": {},
     "output_type": "execute_result"
    }
   ],
   "source": [
    "base_list[0]"
   ]
  },
  {
   "cell_type": "code",
   "execution_count": 1,
   "metadata": {},
   "outputs": [],
   "source": [
    "import numpy as np\n",
    "import pandas as pd\n",
    "import pandas_profiling as pp\n",
    "\n",
    "import matplotlib.pyplot as plt\n",
    "\n",
    "%matplotlib inline"
   ]
  },
  {
   "cell_type": "markdown",
   "metadata": {},
   "source": [
    "### The goals is to check if phone number match in the field 'estate_phone ' of dupro.csv and cent.csv and to create another file.csv with only the item of dupro.csv without the any item of the matching of ph-one n-umber but be careful because we can have in each field 2,3 or more number. We need to check each one with each one. If a number match we don't take the line. We keep only the line who don't any number of cent.csv doesn't match"
   ]
  },
  {
   "cell_type": "code",
   "execution_count": 2,
   "metadata": {},
   "outputs": [],
   "source": [
    "cent = pd.read_csv('cent.csv')\n",
    "dupro = pd.read_csv('dupro.csv') # This is what we want, minus the common numbers of cent"
   ]
  },
  {
   "cell_type": "code",
   "execution_count": 3,
   "metadata": {},
   "outputs": [],
   "source": [
    "cent.fillna('0', inplace=True)\n",
    "dupro.fillna('0', inplace=True)"
   ]
  },
  {
   "cell_type": "code",
   "execution_count": 4,
   "metadata": {},
   "outputs": [],
   "source": [
    "ce_list = list(set(np.concatenate(list(map(lambda x: str(x).split(','), cent['estate_phone'].values))).ravel()))\n",
    "du_list = list(map(lambda x: str(x).split(','), dupro['estate_phone'].values))"
   ]
  },
  {
   "cell_type": "code",
   "execution_count": 5,
   "metadata": {},
   "outputs": [],
   "source": [
    "for i in range(len(ce_list)):\n",
    "    try:\n",
    "        ce_list[i] = float(ce_list[i])\n",
    "    except:\n",
    "        print(ce_list[i])\n",
    "        \n",
    "for i in range(len(du_list)):\n",
    "    for j in range(len(du_list[i])):\n",
    "        try:\n",
    "            du_list[i][j] = float(du_list[i][j])\n",
    "        except:\n",
    "            new = du_list[i][j]"
   ]
  },
  {
   "cell_type": "code",
   "execution_count": 6,
   "metadata": {},
   "outputs": [],
   "source": [
    "keep = []\n",
    "for i in range(len(du_list)):\n",
    "    for j in range(len(du_list[i])):\n",
    "        if du_list[i][j] in ce_list:\n",
    "            break\n",
    "        if j == len(du_list[i]) - 1:\n",
    "            keep.append(i)\n",
    "        \n",
    "            "
   ]
  },
  {
   "cell_type": "code",
   "execution_count": 7,
   "metadata": {},
   "outputs": [],
   "source": [
    "new_dupro = dupro.loc[keep]"
   ]
  },
  {
   "cell_type": "raw",
   "metadata": {},
   "source": [
    "new_dupro.to_csv('new_dupro.csv')"
   ]
  },
  {
   "cell_type": "code",
   "execution_count": 9,
   "metadata": {},
   "outputs": [],
   "source": [
    "new_dupro.reset_index(inplace=True)"
   ]
  },
  {
   "cell_type": "code",
   "execution_count": 11,
   "metadata": {},
   "outputs": [
    {
     "data": {
      "text/html": [
       "<div>\n",
       "<style scoped>\n",
       "    .dataframe tbody tr th:only-of-type {\n",
       "        vertical-align: middle;\n",
       "    }\n",
       "\n",
       "    .dataframe tbody tr th {\n",
       "        vertical-align: top;\n",
       "    }\n",
       "\n",
       "    .dataframe thead th {\n",
       "        text-align: right;\n",
       "    }\n",
       "</style>\n",
       "<table border=\"1\" class=\"dataframe\">\n",
       "  <thead>\n",
       "    <tr style=\"text-align: right;\">\n",
       "      <th></th>\n",
       "      <th>index</th>\n",
       "      <th>estate_address</th>\n",
       "      <th>estate_agency</th>\n",
       "      <th>estate_city</th>\n",
       "      <th>estate_country</th>\n",
       "      <th>estate_description</th>\n",
       "      <th>estate_district</th>\n",
       "      <th>estate_geolocalisation</th>\n",
       "      <th>estate_id</th>\n",
       "      <th>estate_images</th>\n",
       "      <th>...</th>\n",
       "      <th>estate_nb_rooms</th>\n",
       "      <th>estate_phone</th>\n",
       "      <th>estate_price</th>\n",
       "      <th>estate_province</th>\n",
       "      <th>estate_source</th>\n",
       "      <th>estate_street_address</th>\n",
       "      <th>estate_title</th>\n",
       "      <th>estate_type</th>\n",
       "      <th>estate_url</th>\n",
       "      <th>estate_zip_code</th>\n",
       "    </tr>\n",
       "  </thead>\n",
       "  <tbody>\n",
       "    <tr>\n",
       "      <th>0</th>\n",
       "      <td>0</td>\n",
       "      <td>229-5661, avenue de Chateaubriand,Rosemont / L...</td>\n",
       "      <td>0</td>\n",
       "      <td>QC</td>\n",
       "      <td>CA</td>\n",
       "      <td>Magnifique condo de deux chambres situé en pha...</td>\n",
       "      <td>Rosemont / La Petite Patrie</td>\n",
       "      <td>45.53204,-73.59458</td>\n",
       "      <td>872269</td>\n",
       "      <td>https://photos.duproprio.com/photos/public/for...</td>\n",
       "      <td>...</td>\n",
       "      <td>2</td>\n",
       "      <td>5145160400</td>\n",
       "      <td>409000.0</td>\n",
       "      <td>0</td>\n",
       "      <td>duproprio</td>\n",
       "      <td>229-5661, avenue de Chateaubriand</td>\n",
       "      <td>229-5661, avenue de Chateaubriand, Rosemont / ...</td>\n",
       "      <td>Condo</td>\n",
       "      <td>https://duproprio.com/fr/montreal/rosemont-la-...</td>\n",
       "      <td>H2S 0B6</td>\n",
       "    </tr>\n",
       "    <tr>\n",
       "      <th>1</th>\n",
       "      <td>1</td>\n",
       "      <td>632, rue des Maisons-de-Bois,Ste-Christine-D&amp;#...</td>\n",
       "      <td>0</td>\n",
       "      <td>QC</td>\n",
       "      <td>CA</td>\n",
       "      <td>Pour plus de renseignements concernant la prop...</td>\n",
       "      <td>Ste-Christine-D&amp;#039;Auvergne</td>\n",
       "      <td>46.8418,-71.93627</td>\n",
       "      <td>873800</td>\n",
       "      <td>https://photos.duproprio.com/photos/public/for...</td>\n",
       "      <td>...</td>\n",
       "      <td>2</td>\n",
       "      <td>4188319088,4185203060</td>\n",
       "      <td>401000.0</td>\n",
       "      <td>0</td>\n",
       "      <td>duproprio</td>\n",
       "      <td>632, rue des Maisons-de-Bois</td>\n",
       "      <td>632, rue des Maisons-de-Bois, Ste-Christine-D&amp;...</td>\n",
       "      <td>Chalet</td>\n",
       "      <td>https://duproprio.com/fr/portneuf/ste-christin...</td>\n",
       "      <td>G0A 1A0</td>\n",
       "    </tr>\n",
       "    <tr>\n",
       "      <th>2</th>\n",
       "      <td>2</td>\n",
       "      <td>325, chemin du Lac Rossignol,Lac-Superieur,J0T...</td>\n",
       "      <td>0</td>\n",
       "      <td>QC</td>\n",
       "      <td>CA</td>\n",
       "      <td>Superbe résidence construite avec le soucis du...</td>\n",
       "      <td>Lac-Superieur</td>\n",
       "      <td>46.1743,-74.45203</td>\n",
       "      <td>873895</td>\n",
       "      <td>https://photos.duproprio.com/photos/public/for...</td>\n",
       "      <td>...</td>\n",
       "      <td>3</td>\n",
       "      <td>5148080063</td>\n",
       "      <td>449900.0</td>\n",
       "      <td>0</td>\n",
       "      <td>duproprio</td>\n",
       "      <td>325, chemin du Lac Rossignol</td>\n",
       "      <td>325, chemin du Lac Rossignol, Lac-Superieur à ...</td>\n",
       "      <td>Maison 2 étages</td>\n",
       "      <td>https://duproprio.com/fr/laurentides/lac-super...</td>\n",
       "      <td>J0T 1J0</td>\n",
       "    </tr>\n",
       "    <tr>\n",
       "      <th>3</th>\n",
       "      <td>3</td>\n",
       "      <td>1889, rue Prospect,Sherbrooke (Jacques-Cartier...</td>\n",
       "      <td>0</td>\n",
       "      <td>QC</td>\n",
       "      <td>CA</td>\n",
       "      <td>Espace additionnel: garage, patio, rangement e...</td>\n",
       "      <td>Sherbrooke (Jacques-Cartier)</td>\n",
       "      <td>45.40922,-71.92047</td>\n",
       "      <td>872435</td>\n",
       "      <td>https://photos.duproprio.com/photos/public/for...</td>\n",
       "      <td>...</td>\n",
       "      <td>3</td>\n",
       "      <td>8197913521,8199197538</td>\n",
       "      <td>257000.0</td>\n",
       "      <td>0</td>\n",
       "      <td>duproprio</td>\n",
       "      <td>1889, rue Prospect</td>\n",
       "      <td>1889, rue Prospect, Sherbrooke (Jacques-Cartie...</td>\n",
       "      <td>Jumelé</td>\n",
       "      <td>https://duproprio.com/fr/estrie/sherbrooke-jac...</td>\n",
       "      <td>J1J 4C9</td>\n",
       "    </tr>\n",
       "    <tr>\n",
       "      <th>4</th>\n",
       "      <td>4</td>\n",
       "      <td>710-88, rue Charlotte,Ville-Marie (Centre-Vill...</td>\n",
       "      <td>0</td>\n",
       "      <td>QC</td>\n",
       "      <td>CA</td>\n",
       "      <td>Grand Condo 749pc  Quartier des spectacles. Pr...</td>\n",
       "      <td>Ville-Marie (Centre-Ville et Vieux Mtl)</td>\n",
       "      <td>45.51022,-73.56155</td>\n",
       "      <td>840167</td>\n",
       "      <td>https://photos.duproprio.com/photos/public/for...</td>\n",
       "      <td>...</td>\n",
       "      <td>1</td>\n",
       "      <td>5142938362</td>\n",
       "      <td>379000.0</td>\n",
       "      <td>0</td>\n",
       "      <td>duproprio</td>\n",
       "      <td>710-88, rue Charlotte</td>\n",
       "      <td>710-88, rue Charlotte, Ville-Marie (Centre-Vil...</td>\n",
       "      <td>Condo</td>\n",
       "      <td>https://duproprio.com/fr/montreal/ville-marie-...</td>\n",
       "      <td>H2X 4E2</td>\n",
       "    </tr>\n",
       "  </tbody>\n",
       "</table>\n",
       "<p>5 rows × 25 columns</p>\n",
       "</div>"
      ],
      "text/plain": [
       "   index                                     estate_address estate_agency  \\\n",
       "0      0  229-5661, avenue de Chateaubriand,Rosemont / L...             0   \n",
       "1      1  632, rue des Maisons-de-Bois,Ste-Christine-D&#...             0   \n",
       "2      2  325, chemin du Lac Rossignol,Lac-Superieur,J0T...             0   \n",
       "3      3  1889, rue Prospect,Sherbrooke (Jacques-Cartier...             0   \n",
       "4      4  710-88, rue Charlotte,Ville-Marie (Centre-Vill...             0   \n",
       "\n",
       "  estate_city estate_country  \\\n",
       "0          QC             CA   \n",
       "1          QC             CA   \n",
       "2          QC             CA   \n",
       "3          QC             CA   \n",
       "4          QC             CA   \n",
       "\n",
       "                                  estate_description  \\\n",
       "0  Magnifique condo de deux chambres situé en pha...   \n",
       "1  Pour plus de renseignements concernant la prop...   \n",
       "2  Superbe résidence construite avec le soucis du...   \n",
       "3  Espace additionnel: garage, patio, rangement e...   \n",
       "4  Grand Condo 749pc  Quartier des spectacles. Pr...   \n",
       "\n",
       "                           estate_district estate_geolocalisation  estate_id  \\\n",
       "0              Rosemont / La Petite Patrie     45.53204,-73.59458     872269   \n",
       "1            Ste-Christine-D&#039;Auvergne      46.8418,-71.93627     873800   \n",
       "2                            Lac-Superieur      46.1743,-74.45203     873895   \n",
       "3             Sherbrooke (Jacques-Cartier)     45.40922,-71.92047     872435   \n",
       "4  Ville-Marie (Centre-Ville et Vieux Mtl)     45.51022,-73.56155     840167   \n",
       "\n",
       "                                       estate_images  ...  estate_nb_rooms  \\\n",
       "0  https://photos.duproprio.com/photos/public/for...  ...                2   \n",
       "1  https://photos.duproprio.com/photos/public/for...  ...                2   \n",
       "2  https://photos.duproprio.com/photos/public/for...  ...                3   \n",
       "3  https://photos.duproprio.com/photos/public/for...  ...                3   \n",
       "4  https://photos.duproprio.com/photos/public/for...  ...                1   \n",
       "\n",
       "            estate_phone  estate_price estate_province estate_source  \\\n",
       "0             5145160400      409000.0               0     duproprio   \n",
       "1  4188319088,4185203060      401000.0               0     duproprio   \n",
       "2             5148080063      449900.0               0     duproprio   \n",
       "3  8197913521,8199197538      257000.0               0     duproprio   \n",
       "4             5142938362      379000.0               0     duproprio   \n",
       "\n",
       "               estate_street_address  \\\n",
       "0  229-5661, avenue de Chateaubriand   \n",
       "1       632, rue des Maisons-de-Bois   \n",
       "2       325, chemin du Lac Rossignol   \n",
       "3                 1889, rue Prospect   \n",
       "4              710-88, rue Charlotte   \n",
       "\n",
       "                                        estate_title      estate_type  \\\n",
       "0  229-5661, avenue de Chateaubriand, Rosemont / ...            Condo   \n",
       "1  632, rue des Maisons-de-Bois, Ste-Christine-D&...           Chalet   \n",
       "2  325, chemin du Lac Rossignol, Lac-Superieur à ...  Maison 2 étages   \n",
       "3  1889, rue Prospect, Sherbrooke (Jacques-Cartie...           Jumelé   \n",
       "4  710-88, rue Charlotte, Ville-Marie (Centre-Vil...            Condo   \n",
       "\n",
       "                                          estate_url estate_zip_code  \n",
       "0  https://duproprio.com/fr/montreal/rosemont-la-...         H2S 0B6  \n",
       "1  https://duproprio.com/fr/portneuf/ste-christin...         G0A 1A0  \n",
       "2  https://duproprio.com/fr/laurentides/lac-super...         J0T 1J0  \n",
       "3  https://duproprio.com/fr/estrie/sherbrooke-jac...         J1J 4C9  \n",
       "4  https://duproprio.com/fr/montreal/ville-marie-...         H2X 4E2  \n",
       "\n",
       "[5 rows x 25 columns]"
      ]
     },
     "execution_count": 11,
     "metadata": {},
     "output_type": "execute_result"
    }
   ],
   "source": [
    "new_dupro.head()"
   ]
  },
  {
   "cell_type": "code",
   "execution_count": 52,
   "metadata": {},
   "outputs": [],
   "source": [
    "base_list = list(map(lambda x: x.split(','), new_dupro['estate_phone'].values))\n",
    "\n",
    "for i in range(len(base_list)):\n",
    "    while '' in base_list[i]:\n",
    "        base_list[i].remove('')\n",
    "\n",
    "base_list = [list(map(int, lst)) for lst in base_list]"
   ]
  },
  {
   "cell_type": "code",
   "execution_count": 66,
   "metadata": {},
   "outputs": [],
   "source": [
    "s_list = []\n",
    "common = []\n",
    "for i in range(len(base_list)):\n",
    "    base = base_list[i]\n",
    "    for k in range(len(base_list)):\n",
    "        for j in range(len(base)):\n",
    "            if base[j] in base_list[k]:\n",
    "                common.append(k)\n",
    "       \n",
    "    common = list(set(common))\n",
    "    common.remove(i)\n",
    "    if len(common) == 0:\n",
    "        s_list.append('0')\n",
    "    else:\n",
    "        s_list.append(common)\n",
    "    common = []\n",
    "    \n",
    "                "
   ]
  },
  {
   "cell_type": "code",
   "execution_count": 82,
   "metadata": {},
   "outputs": [],
   "source": [
    "final_list = [list(map(int, lst)) for lst in s_list]"
   ]
  },
  {
   "cell_type": "code",
   "execution_count": 68,
   "metadata": {},
   "outputs": [],
   "source": [
    "new_dupro['similarity_column'] = final_list"
   ]
  },
  {
   "cell_type": "code",
   "execution_count": 80,
   "metadata": {},
   "outputs": [],
   "source": [
    "new_dupro['similarity_column'] = new_dupro['similarity_column'].str[0]"
   ]
  },
  {
   "cell_type": "code",
   "execution_count": 84,
   "metadata": {},
   "outputs": [],
   "source": [
    "new_dupro.to_csv('new_dupro_v2.csv', index=False)"
   ]
  },
  {
   "cell_type": "markdown",
   "metadata": {},
   "source": [
    "### Re-working on V2"
   ]
  },
  {
   "cell_type": "code",
   "execution_count": 2,
   "metadata": {},
   "outputs": [],
   "source": [
    "import numpy as np\n",
    "import pandas as pd"
   ]
  },
  {
   "cell_type": "code",
   "execution_count": 12,
   "metadata": {},
   "outputs": [],
   "source": [
    "### The goals is to check if phone number match in the field 'estate_phone ' of dupro.csv and cent.csv and to create another file.csv with only the item of dupro.csv without the any item of the matching of ph-one n-umber but be careful because we can have in each field 2,3 or more number. We need to check each one with each one. If a number match we don't take the line. We keep only the line who don't any number of cent.csv doesn't match\n",
    "new_dupro = pd.read_csv('AVPP_immo.csv')\n",
    "new_dupro.dropna(subset=['estate_phone'], inplace=True)\n",
    "new_dupro['estate_phone'].fillna(0, inplace=True)"
   ]
  },
  {
   "cell_type": "code",
   "execution_count": 13,
   "metadata": {},
   "outputs": [],
   "source": [
    "base_list = list(map(lambda x: x.split(','), new_dupro['estate_phone'].astype(str)))"
   ]
  },
  {
   "cell_type": "code",
   "execution_count": 14,
   "metadata": {},
   "outputs": [],
   "source": [
    "for i in range(len(base_list)):\n",
    "    while '' in base_list[i]:\n",
    "        base_list[i].remove('')"
   ]
  },
  {
   "cell_type": "code",
   "execution_count": 15,
   "metadata": {},
   "outputs": [],
   "source": [
    "base_list = [list(map(float, map(int,i))) for i in base_list]"
   ]
  },
  {
   "cell_type": "code",
   "execution_count": 17,
   "metadata": {},
   "outputs": [],
   "source": [
    "s_list = []\n",
    "common = []\n",
    "for i in range(len(base_list)):\n",
    "    base = base_list[i]\n",
    "    for k in range(len(base_list)):\n",
    "        for j in range(len(base)):\n",
    "            if base[j] in base_list[k]:\n",
    "                common.append(k)\n",
    "       \n",
    "    common = list(set(common))\n",
    "#     common.remove(i)\n",
    "    if len(common) == 0:\n",
    "        s_list.append('')\n",
    "    else:\n",
    "        s_list.append(common)\n",
    "    common = []\n",
    "\n",
    "# final_list = [list(map(int, lst)) for lst in s_list]\n",
    "\n",
    "\n",
    "new_dupro['similarity_column'] = s_list\n",
    "new_dupro['similarity_column'] = new_dupro['similarity_column'].str[0]\n",
    "new_dupro.to_csv('new_dupro_v2.csv', index=False)\n",
    "\n",
    "\n",
    "\n"
   ]
  },
  {
   "cell_type": "code",
   "execution_count": 18,
   "metadata": {},
   "outputs": [
    {
     "data": {
      "text/plain": [
       "0            NaN\n",
       "1            NaN\n",
       "2            NaN\n",
       "3            NaN\n",
       "4            NaN\n",
       "5            NaN\n",
       "6            NaN\n",
       "7            NaN\n",
       "8            NaN\n",
       "9        19886.0\n",
       "10           NaN\n",
       "11           NaN\n",
       "12           NaN\n",
       "13           NaN\n",
       "14           NaN\n",
       "15       17302.0\n",
       "16          17.0\n",
       "17          16.0\n",
       "18           NaN\n",
       "19           NaN\n",
       "20           NaN\n",
       "21           NaN\n",
       "22           NaN\n",
       "23           NaN\n",
       "24           NaN\n",
       "25           NaN\n",
       "26           NaN\n",
       "27       18438.0\n",
       "28        1380.0\n",
       "29           NaN\n",
       "          ...   \n",
       "21489        NaN\n",
       "21490    21328.0\n",
       "21491     1750.0\n",
       "21492        NaN\n",
       "21493        NaN\n",
       "21494    16368.0\n",
       "21495        NaN\n",
       "21496        NaN\n",
       "21497        NaN\n",
       "21498    20999.0\n",
       "21499        NaN\n",
       "21500    16367.0\n",
       "21501        NaN\n",
       "21502        NaN\n",
       "21503        NaN\n",
       "21504        NaN\n",
       "21505    16390.0\n",
       "21506        NaN\n",
       "21507    19796.0\n",
       "21508        NaN\n",
       "21509        NaN\n",
       "21510        NaN\n",
       "21511    19840.0\n",
       "21512        NaN\n",
       "21513        NaN\n",
       "21514        NaN\n",
       "21515        NaN\n",
       "21516        NaN\n",
       "21517        NaN\n",
       "21518        NaN\n",
       "Name: similarity_column, Length: 21514, dtype: float64"
      ]
     },
     "execution_count": 18,
     "metadata": {},
     "output_type": "execute_result"
    }
   ],
   "source": [
    "new_dupro['similarity_column']"
   ]
  },
  {
   "cell_type": "markdown",
   "metadata": {},
   "source": [
    "### Checking difference between old and new dataset"
   ]
  },
  {
   "cell_type": "code",
   "execution_count": 4,
   "metadata": {},
   "outputs": [],
   "source": [
    "v1 = pd.read_csv('AVPP_immo.csv')\n",
    "v2 = pd.read_csv('AVPP_TEL.csv')"
   ]
  },
  {
   "cell_type": "code",
   "execution_count": 6,
   "metadata": {},
   "outputs": [
    {
     "data": {
      "text/plain": [
       "dtype('O')"
      ]
     },
     "execution_count": 6,
     "metadata": {},
     "output_type": "execute_result"
    }
   ],
   "source": [
    "v1['estate_phone'].dtype"
   ]
  },
  {
   "cell_type": "code",
   "execution_count": 7,
   "metadata": {},
   "outputs": [
    {
     "data": {
      "text/plain": [
       "dtype('O')"
      ]
     },
     "execution_count": 7,
     "metadata": {},
     "output_type": "execute_result"
    }
   ],
   "source": [
    "v2['estate_phone'].dtype"
   ]
  },
  {
   "cell_type": "code",
   "execution_count": null,
   "metadata": {},
   "outputs": [],
   "source": []
  },
  {
   "cell_type": "code",
   "execution_count": null,
   "metadata": {},
   "outputs": [],
   "source": []
  },
  {
   "cell_type": "code",
   "execution_count": null,
   "metadata": {},
   "outputs": [],
   "source": []
  },
  {
   "cell_type": "code",
   "execution_count": null,
   "metadata": {},
   "outputs": [],
   "source": []
  },
  {
   "cell_type": "code",
   "execution_count": null,
   "metadata": {},
   "outputs": [],
   "source": []
  },
  {
   "cell_type": "code",
   "execution_count": null,
   "metadata": {},
   "outputs": [],
   "source": []
  },
  {
   "cell_type": "code",
   "execution_count": null,
   "metadata": {},
   "outputs": [],
   "source": []
  },
  {
   "cell_type": "code",
   "execution_count": null,
   "metadata": {},
   "outputs": [],
   "source": []
  },
  {
   "cell_type": "code",
   "execution_count": null,
   "metadata": {},
   "outputs": [],
   "source": []
  },
  {
   "cell_type": "code",
   "execution_count": null,
   "metadata": {},
   "outputs": [],
   "source": []
  },
  {
   "cell_type": "code",
   "execution_count": null,
   "metadata": {},
   "outputs": [],
   "source": []
  },
  {
   "cell_type": "code",
   "execution_count": null,
   "metadata": {},
   "outputs": [],
   "source": []
  },
  {
   "cell_type": "code",
   "execution_count": null,
   "metadata": {},
   "outputs": [],
   "source": []
  },
  {
   "cell_type": "code",
   "execution_count": null,
   "metadata": {},
   "outputs": [],
   "source": []
  },
  {
   "cell_type": "code",
   "execution_count": null,
   "metadata": {},
   "outputs": [],
   "source": []
  }
 ],
 "metadata": {
  "kernelspec": {
   "display_name": "Python 3",
   "language": "python",
   "name": "python3"
  },
  "language_info": {
   "codemirror_mode": {
    "name": "ipython",
    "version": 3
   },
   "file_extension": ".py",
   "mimetype": "text/x-python",
   "name": "python",
   "nbconvert_exporter": "python",
   "pygments_lexer": "ipython3",
   "version": "3.5.6"
  }
 },
 "nbformat": 4,
 "nbformat_minor": 4
}
