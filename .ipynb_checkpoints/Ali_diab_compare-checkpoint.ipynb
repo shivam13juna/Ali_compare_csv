{
 "cells": [
  {
   "cell_type": "code",
   "execution_count": 8,
   "metadata": {},
   "outputs": [],
   "source": [
    "import numpy as np\n",
    "import pandas as pd\n",
    "import pandas_profiling as pp\n",
    "\n",
    "import matplotlib.pyplot as plt\n",
    "\n",
    "%matplotlib inline"
   ]
  },
  {
   "cell_type": "markdown",
   "metadata": {},
   "source": [
    "### The goals is to check if phone number match in the field 'estate_phone ' of dupro.csv and cent.csv and to create another file.csv with only the item of dupro.csv without the any item of the matching of ph-one n-umber but be careful because we can have in each field 2,3 or more number. We need to check each one with each one. If a number match we don't take the line. We keep only the line who don't any number of cent.csv doesn't match"
   ]
  },
  {
   "cell_type": "code",
   "execution_count": 2,
   "metadata": {},
   "outputs": [],
   "source": [
    "cent = pd.read_csv('cent.csv')\n",
    "dupro = pd.read_csv('dupro.csv') # This is what we want, minus the common numbers of cent"
   ]
  },
  {
   "cell_type": "code",
   "execution_count": 3,
   "metadata": {},
   "outputs": [],
   "source": [
    "cent.fillna('0', inplace=True)\n",
    "dupro.fillna('0', inplace=True)"
   ]
  },
  {
   "cell_type": "code",
   "execution_count": 33,
   "metadata": {},
   "outputs": [],
   "source": [
    "ce_list = list(ce_list)"
   ]
  },
  {
   "cell_type": "code",
   "execution_count": 34,
   "metadata": {},
   "outputs": [],
   "source": [
    "for i in range(len(ce_list)):\n",
    "    try:\n",
    "        ce_list[i] = float(ce_list[i])\n",
    "    except:\n",
    "        print(ce_list[i])"
   ]
  },
  {
   "cell_type": "code",
   "execution_count": 29,
   "metadata": {},
   "outputs": [],
   "source": [
    "ce_list = list(set(np.concatenate(list(map(lambda x: str(x).split(','), cent['estate_phone'].values))).ravel()))\n",
    "du_list = list(map(lambda x: str(x).split(','), dupro['estate_phone'].values))"
   ]
  },
  {
   "cell_type": "code",
   "execution_count": 17,
   "metadata": {},
   "outputs": [
    {
     "data": {
      "text/plain": [
       "<matplotlib.legend.Legend at 0x7fa94ead77b8>"
      ]
     },
     "execution_count": 17,
     "metadata": {},
     "output_type": "execute_result"
    },
    {
     "data": {
      "image/png": "[encoded data removed]",
      "text/plain": [
       "<Figure size 1080x576 with 1 Axes>"
      ]
     },
     "metadata": {
      "needs_background": "light"
     },
     "output_type": "display_data"
    }
   ],
   "source": [
    "plt.figure(figsize=(15, 8))\n",
    "\n",
    "plt.plot(sorted([len(i) for i in ce_list]), label='cent')\n",
    "plt.plot(sorted([len(i) for i in du_list]), label='dupro')\n",
    "plt.xlabel('Count')\n",
    "plt.ylabel('Length')\n",
    "plt.legend()"
   ]
  },
  {
   "cell_type": "code",
   "execution_count": 10,
   "metadata": {},
   "outputs": [
    {
     "data": {
      "text/plain": [
       "(20483, 24)"
      ]
     },
     "execution_count": 10,
     "metadata": {},
     "output_type": "execute_result"
    }
   ],
   "source": [
    "dupro.shape"
   ]
  },
  {
   "cell_type": "code",
   "execution_count": 8,
   "metadata": {},
   "outputs": [
    {
     "data": {
      "text/plain": [
       "0                                 5145160400\n",
       "1                      4188319088,4185203060\n",
       "2                                 5148080063\n",
       "3                      8197913521,8199197538\n",
       "4                                 5142938362\n",
       "5                      4189985710,4189985710\n",
       "6           4508831188,5147107854,4508838685\n",
       "7                                 4188026603\n",
       "8                                 5148080063\n",
       "9                                 8195741081\n",
       "10                                5142991741\n",
       "11                     5147733639,5142247228\n",
       "12                                5149786817\n",
       "13                     8198882281,8195884909\n",
       "14                                4187231633\n",
       "15                     4186733238,5818825451\n",
       "16                     5819907878,4189287676\n",
       "17                                4383917486\n",
       "18          5148561423,5149422111,5148561423\n",
       "19                                5145574239\n",
       "20                     4183475116,4184873614\n",
       "21                     5819840569,4189325757\n",
       "22                                8199218362\n",
       "23                     4184545833,4186907814\n",
       "24                                5819991930\n",
       "25                     4185646958,4185646958\n",
       "26                     8193838482,8193838482\n",
       "27                     5147610274,5148869781\n",
       "28                                8196630003\n",
       "29                                8192102038\n",
       "                        ...                 \n",
       "20453                             5142177445\n",
       "20454                             4184298101\n",
       "20455                             4506770001\n",
       "20456                  4186534093,4186534093\n",
       "20457                             4188488831\n",
       "20458                             5147996136\n",
       "20459                             4505910894\n",
       "20460                             4185542555\n",
       "20461                  4188095180,4188095180\n",
       "20462    4186722476,4186722476102,4186726141\n",
       "20463                  8194282191,8196612095\n",
       "20464                             5149753200\n",
       "20465                  5144536849,4504241221\n",
       "20466                  6135524361,6137860183\n",
       "20467                             4189513654\n",
       "20468                  4502453733,5145914683\n",
       "20469                             8195548970\n",
       "20470                  5815805126,4185696088\n",
       "20471       8195626279,8196746747,8198207430\n",
       "20472                             4508207555\n",
       "20473                  4188785161,4183270048\n",
       "20474                  4505620133,4505669933\n",
       "20475                             4185380912\n",
       "20476                  5813330608,5813095335\n",
       "20477                             4182640308\n",
       "20478                  5147189832,5147189832\n",
       "20479                  6137098380,6132403181\n",
       "20480                  4185900855,4188172216\n",
       "20481                  4185429234,5812353417\n",
       "20482               4383924464,5142532229322\n",
       "Name: estate_phone, Length: 20483, dtype: object"
      ]
     },
     "execution_count": 8,
     "metadata": {},
     "output_type": "execute_result"
    }
   ],
   "source": [
    "dupro['estate_phone']"
   ]
  },
  {
   "cell_type": "code",
   "execution_count": null,
   "metadata": {},
   "outputs": [],
   "source": []
  }
 ],
 "metadata": {
  "kernelspec": {
   "display_name": "Python 3",
   "language": "python",
   "name": "python3"
  },
  "language_info": {
   "codemirror_mode": {
    "name": "ipython",
    "version": 3
   },
   "file_extension": ".py",
   "mimetype": "text/x-python",
   "name": "python",
   "nbconvert_exporter": "python",
   "pygments_lexer": "ipython3",
   "version": "3.5.6"
  }
 },
 "nbformat": 4,
 "nbformat_minor": 2
}
